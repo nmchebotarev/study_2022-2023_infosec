{
 "cells": [
  {
   "cell_type": "code",
   "execution_count": 1,
   "id": "9bf43ac1",
   "metadata": {},
   "outputs": [],
   "source": [
    "def xor_cipher(filename, outfilename, string):\n",
    "    '''\n",
    "    xor_cipher: функция, которая производит операцию XOR\\\n",
    "    с каждым символом из файла filename и строкой string.\n",
    "    Если символов в файле больше, чем в строке string,\n",
    "    то строка сдвигается влево на один символ\n",
    "    Результат записывается в файл outfilename\n",
    "    '''\n",
    "    with open(outfilename, \"w\") as filewrite:\n",
    "        with open(filename) as file:\n",
    "            if not file:\n",
    "                print(\"no file\")\n",
    "                exit(1)\n",
    "            # Главное смещение (относительно начала строки)\n",
    "            main_offset = 0\n",
    "            # Относительное смещение (+=1, когда строка заканчивается)\n",
    "            str_offset = 0\n",
    "            # Чтение файла построчно\n",
    "            for line in file:\n",
    "                res_str = \"\"\n",
    "                # Посимвольное гаммирование\n",
    "                for i in range(len(line)):\n",
    "                    if main_offset!=0 and main_offset % len(string) == 0:\n",
    "                        str_offset += 1\n",
    "                    res_str += chr(ord(line[i])^ord(string[(main_offset+str_offset)%len(string)]))\n",
    "                    main_offset += 1\n",
    "                # Запись в файл\n",
    "                filewrite.write(res_str)\n",
    "def main():\n",
    "    '''\n",
    "    Main function\n",
    "    '''\n",
    "    string = input(\"Введите строку:\\n\")\n",
    "    # string = \"test string\"\n",
    "    xor_cipher(\"test.txt\",\"output.txt\", string)\n",
    "    xor_cipher(\"output.txt\",\"output#2.txt\", string)\n",
    "    print(\"DONE!\")\n",
    "    input(\"Нажмите Enter для завершения программы\")"
   ]
  },
  {
   "cell_type": "code",
   "execution_count": 2,
   "id": "08a2b315",
   "metadata": {},
   "outputs": [
    {
     "name": "stdout",
     "output_type": "stream",
     "text": [
      "Введите строку:\n",
      "KeyString\n",
      "DONE!\n",
      "Нажмите Enter для завершения программы\n"
     ]
    }
   ],
   "source": [
    "if __name__ == \"__main__\":\n",
    "    main()"
   ]
  },
  {
   "cell_type": "code",
   "execution_count": null,
   "id": "3bce6ec8",
   "metadata": {},
   "outputs": [],
   "source": []
  }
 ],
 "metadata": {
  "kernelspec": {
   "display_name": "Python 3 (ipykernel)",
   "language": "python",
   "name": "python3"
  },
  "language_info": {
   "codemirror_mode": {
    "name": "ipython",
    "version": 3
   },
   "file_extension": ".py",
   "mimetype": "text/x-python",
   "name": "python",
   "nbconvert_exporter": "python",
   "pygments_lexer": "ipython3",
   "version": "3.9.9"
  }
 },
 "nbformat": 4,
 "nbformat_minor": 5
}
